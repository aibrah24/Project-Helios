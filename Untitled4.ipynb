{
  "nbformat": 4,
  "nbformat_minor": 0,
  "metadata": {
    "colab": {
      "provenance": [],
      "authorship_tag": "ABX9TyNgDTXXSaC74EUaNJKSDyjZ",
      "include_colab_link": true
    },
    "kernelspec": {
      "name": "python3",
      "display_name": "Python 3"
    },
    "language_info": {
      "name": "python"
    }
  },
  "cells": [
    {
      "cell_type": "markdown",
      "metadata": {
        "id": "view-in-github",
        "colab_type": "text"
      },
      "source": [
        "<a href=\"https://colab.research.google.com/github/aibrah24/Team-Oncology-DAEN690/blob/main/Untitled4.ipynb\" target=\"_parent\"><img src=\"https://colab.research.google.com/assets/colab-badge.svg\" alt=\"Open In Colab\"/></a>"
      ]
    },
    {
      "cell_type": "code",
      "execution_count": null,
      "metadata": {
        "id": "8ECDxQtIaG5w"
      },
      "outputs": [],
      "source": [
        "import pandas as pd\n",
        "import numpy as np\n",
        "from statsmodels.tsa.arima_model import ARIMA\n",
        "from sklearn.metrics import mean_absolute_error, mean_squared_error\n",
        "from sklearn.model_selection import GridSearchCV, RandomizedSearchCV\n",
        "import matplotlib.pyplot as plt\n",
        "\n",
        "# Load the data\n",
        "data = pd.read_csv('time_series_data.csv')\n",
        "\n",
        "# Data preprocessing\n",
        "data.dropna(inplace=True)\n",
        "data = (data - data.mean()) / data.std()\n",
        "\n",
        "# Train-test split\n",
        "train_data = data.iloc[:int(len(data)*0.8)]\n",
        "test_data = data.iloc[int(len(data)*0.8):]\n",
        "\n",
        "# Model evaluation\n",
        "arima = ARIMA(train_data, order=(p, d, q))\n",
        "arima_fit = arima.fit()\n",
        "predictions = arima_fit.predict(start=len(train_data), end=len(data)-1, typ='levels')\n",
        "mae = mean_absolute_error(test_data, predictions)\n",
        "mse = mean_squared_error(test_data, predictions)\n",
        "rmse = np.sqrt(mse)\n",
        "\n",
        "# Tuning parameters\n",
        "param_grid = {'p': range(0, 5), 'd': range(0, 2), 'q': range(0, 5)}\n",
        "arima = ARIMA(train_data, order=(p, d, q))\n",
        "arima_grid = GridSearchCV(arima, param_grid\n"
      ]
    }
  ]
}