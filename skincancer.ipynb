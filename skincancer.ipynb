{
  "nbformat": 4,
  "nbformat_minor": 0,
  "metadata": {
    "colab": {
      "provenance": [],
      "authorship_tag": "ABX9TyMdMikAJWgP/r7Okm5AUTb2",
      "include_colab_link": true
    },
    "kernelspec": {
      "name": "python3",
      "display_name": "Python 3"
    },
    "language_info": {
      "name": "python"
    }
  },
  "cells": [
    {
      "cell_type": "markdown",
      "metadata": {
        "id": "view-in-github",
        "colab_type": "text"
      },
      "source": [
        "<a href=\"https://colab.research.google.com/github/aibrah24/Team-Oncology-DAEN690/blob/main/skincancer.ipynb\" target=\"_parent\"><img src=\"https://colab.research.google.com/assets/colab-badge.svg\" alt=\"Open In Colab\"/></a>"
      ]
    },
    {
      "cell_type": "code",
      "execution_count": 1,
      "metadata": {
        "id": "lx8vIBgTorEs"
      },
      "outputs": [],
      "source": [
        "import numpy as np # linear algebra\n",
        "import pandas as pd # data processing, CSV file I/O (e.g. pd.read_csv)\n",
        "\n",
        "import os #file I/O\n",
        "from sklearn.preprocessing import StandardScaler\n",
        "import seaborn as sns\n",
        "\n",
        "import os\n",
        "\n",
        "%matplotlib inline\n",
        "\n",
        "import matplotlib.pyplot as plt #used for plotting and analyzing data\n",
        "\n",
        "#used for image display\n",
        "import PIL \n",
        "from PIL import Image\n",
        "\n",
        "# tensorflow\n",
        "import tensorflow as tf\n",
        "from tensorflow import keras\n",
        "from tensorflow.keras.preprocessing.image import ImageDataGenerator\n",
        "from tensorflow.keras.layers import Dense, Conv2D, Flatten, Dropout, MaxPooling2D\n",
        "from tensorflow.python.keras.models import Sequential\n",
        "from tensorflow.keras import layers\n",
        "\n",
        "import matplotlib.pyplot as plt\n",
        "from sklearn.metrics import auc,roc_curve\n",
        "import seaborn as sns\n",
        "import pandas as pd # data processing, CSV file I/O (e.g. pd.read_csv)\n",
        "import PIL \n",
        "from PIL import Image"
      ]
    },
    {
      "cell_type": "code",
      "source": [
        "data = pd.read_csv(\" \", header = 0)\n",
        "data.head(20)"
      ],
      "metadata": {
        "id": "BOadpWXxo9p9"
      },
      "execution_count": null,
      "outputs": []
    },
    {
      "cell_type": "code",
      "source": [
        "data.info()"
      ],
      "metadata": {
        "id": "n01dU0vKpIYz"
      },
      "execution_count": null,
      "outputs": []
    },
    {
      "cell_type": "code",
      "source": [
        "lesion_type_dict = {\n",
        "    'NV': 'Melanocytic nevi',\n",
        "    'MEL': 'Melanoma',\n",
        "    'BKL': 'Benign keratosis ',\n",
        "    'BCC': 'Basal cell carcinoma',\n",
        "    'AK': 'Actinic keratoses',\n",
        "    'VASC': 'Vascular lesions',\n",
        "    'DF': 'Dermatofibroma',\n",
        "    'SCC' : 'Squamous cell carcinoma'\n",
        "} "
      ],
      "metadata": {
        "id": "CI-Ik_kTpMBf"
      },
      "execution_count": null,
      "outputs": []
    },
    {
      "cell_type": "code",
      "source": [
        "data.describe()"
      ],
      "metadata": {
        "id": "51kyq7ynpRYg"
      },
      "execution_count": null,
      "outputs": []
    },
    {
      "cell_type": "code",
      "source": [
        "data.corr()"
      ],
      "metadata": {
        "id": "4SXJbMFxpU4r"
      },
      "execution_count": null,
      "outputs": []
    },
    {
      "cell_type": "code",
      "source": [
        "sns.heatmap(data.corr())"
      ],
      "metadata": {
        "id": "7GHOo6K3pYyg"
      },
      "execution_count": null,
      "outputs": []
    },
    {
      "cell_type": "code",
      "source": [
        "# ordered count of rows per unique label\n",
        "labels_count = df['Labels'].value_counts(ascending=True)\n",
        "\n",
        "f = plt.figure(figsize=(15, 6))\n",
        "s = sns.barplot(labels_count.index,labels_count.values)\n",
        "sns.despine()\n",
        "s.set_xticklabels(s.get_xticklabels(), rotation = 30)"
      ],
      "metadata": {
        "id": "A2_H9ZIFpbnh"
      },
      "execution_count": null,
      "outputs": []
    },
    {
      "cell_type": "code",
      "source": [
        "def plot_images_per_label(df, label, cols: int, size: tuple):\n",
        "    fig, axs = plt.subplots(nrows=1, ncols=cols, figsize=size)\n",
        "\n",
        "    cntMax = cols\n",
        "    cntCur = 0\n",
        "    for index, row in df.iterrows():\n",
        "        if(row['Labels'] == label and cntCur < cntMax):\n",
        "            axs[cntCur].imshow(plt.imread(df.FilePaths[index]))\n",
        "            axs[cntCur].set_title(df.Labels[index])\n",
        "\n",
        "            cntCur += 1\n",
        "        else:\n",
        "            if(cntCur >= cntMax):\n",
        "                break\n",
        "    \n",
        "    plt.tight_layout()\n",
        "    plt.show()\n",
        "\n",
        "\n",
        "# unique labels\n",
        "labels = sorted(df['Labels'].unique())\n",
        "# loop through labels\n",
        "for label in labels:\n",
        "    plot_images_per_label(df, label, 3, (12,9))"
      ],
      "metadata": {
        "id": "i_K0pXirpzYQ"
      },
      "execution_count": null,
      "outputs": []
    },
    {
      "cell_type": "code",
      "source": [
        "X_train, X_val = train_test_split(df, test_size=0.2, stratify=df['Labels'], random_state=1)\n",
        "\n",
        "print('Train Data: ', X_train.shape)\n",
        "print('Val Data: ', X_val.shape)"
      ],
      "metadata": {
        "id": "9LFAWGfXp0Jl"
      },
      "execution_count": null,
      "outputs": []
    },
    {
      "cell_type": "code",
      "source": [
        "# number of samples/images per iteration\n",
        "BATCH_SIZE = 32\n",
        "# input image size\n",
        "IMG_SIZE = (224, 224)\n",
        "# count of epchos\n",
        "EPOCHS = 10\n",
        "\n",
        "# image preprocessing\n",
        "img_data_gen = ImageDataGenerator(shear_range=0.2,\n",
        "                                  zoom_range=0.2,\n",
        "                                  horizontal_flip=True,\n",
        "                                  preprocessing_function=preprocess_input)\n",
        "\n",
        "X_train = img_data_gen.flow_from_dataframe(dataframe=X_train,\n",
        "                                           x_col='FilePaths',\n",
        "                                           y_col='Labels',\n",
        "                                           target_size=IMG_SIZE,\n",
        "                                           color_mode='rgb',\n",
        "                                           class_mode='categorical',\n",
        "                                           batch_size=BATCH_SIZE,\n",
        "                                           seed=1)\n",
        "\n",
        "X_val = img_data_gen.flow_from_dataframe(dataframe=X_val,\n",
        "                                         x_col='FilePaths',\n",
        "                                         y_col='Labels',\n",
        "                                         target_size=IMG_SIZE,\n",
        "                                         color_mode='rgb',\n",
        "                                         class_mode='categorical',\n",
        "                                         batch_size=BATCH_SIZE,\n",
        "                                         seed=1)"
      ],
      "metadata": {
        "id": "vXLswWBGp5JK"
      },
      "execution_count": null,
      "outputs": []
    },
    {
      "cell_type": "code",
      "source": [
        "training_dir=\" \"\n",
        "#increases amount of data by making different forms of image\n",
        "training_generator = ImageDataGenerator(rescale=1/255,\n",
        "                                        featurewise_center = True,\n",
        "                                        samplewise_center=True, \n",
        "                                        featurewise_std_normalization=False,\n",
        "                                        samplewise_std_normalization=True,\n",
        "                                        zca_whitening=False,\n",
        "                                        rotation_range=30, \n",
        "                                        zoom_range=0.2, \n",
        "                                        width_shift_range=0.1,\n",
        "                                        height_shift_range=0.1,\n",
        "                                        horizontal_flip=True, \n",
        "                                        vertical_flip=True)\n",
        "#creates accessible training data\n",
        "train_generator=training_generator.flow_from_directory(training_dir,target_size=(224,224), \n",
        "                                                       batch_size=4,class_mode='binary')"
      ],
      "metadata": {
        "id": "DGX_ero_p9mb"
      },
      "execution_count": null,
      "outputs": []
    },
    {
      "cell_type": "code",
      "source": [
        "validation_dir=\"\"\n",
        "#increases amount of data by making different forms of image\n",
        "validation_generator=ImageDataGenerator(rescale=1/255)\n",
        "val_generator=validation_generator.flow_from_directory(validation_dir,target_size=(224,224), batch_size=4, class_mode='binary')"
      ],
      "metadata": {
        "id": "VT66tmxNqBT9"
      },
      "execution_count": null,
      "outputs": []
    },
    {
      "cell_type": "code",
      "source": [
        "#testing data\n",
        "testing_dir=\"\"\n",
        "#increases amount of data by making different forms of image\n",
        "testing_generator = ImageDataGenerator(rescale=1/255,\n",
        "                                        featurewise_center = False,\n",
        "                                        samplewise_center=False, \n",
        "                                        featurewise_std_normalization=False,\n",
        "                                        samplewise_std_normalization=False,\n",
        "                                        zca_whitening=False,\n",
        "                                        rotation_range=30, \n",
        "                                        zoom_range=0.2, \n",
        "                                        width_shift_range=0.1,\n",
        "                                        height_shift_range=0.1,\n",
        "                                        horizontal_flip=False, \n",
        "                                        vertical_flip=False)\n",
        "#creates accessible testing data\n",
        "test_generator=training_generator.flow_from_directory(testing_dir,target_size=(224,224), \n",
        "                                                       batch_size=4,class_mode='binary')"
      ],
      "metadata": {
        "id": "Jqa65kFuqEub"
      },
      "execution_count": null,
      "outputs": []
    },
    {
      "cell_type": "code",
      "source": [
        "model = Sequential()\n",
        "\n",
        "model.add(layers.Conv2D(32, (3,3), input_shape = (224,224,3), activation = 'relu'))\n",
        "model.add(layers.MaxPooling2D(2,2))\n",
        "\n",
        "model.add(layers.Conv2D(64, (3,3), activation = 'relu'))\n",
        "model.add(layers.MaxPooling2D(2,2))\n",
        "\n",
        "model.add(layers.Dropout(0.2))\n",
        "\n",
        "model.add(layers.Conv2D(128, (3,3), activation = 'relu'))\n",
        "model.add(layers.MaxPooling2D(2,2))\n",
        "model.add(layers.Dropout(0.2))\n",
        "\n",
        "model.add(layers.Conv2D(256, (3,3), activation = 'relu'))\n",
        "model.add(layers.MaxPooling2D(2,2))\n",
        "\n",
        "model.add(layers.Flatten())\n",
        "model.add(layers.Dropout(0.2))\n",
        "model.add(layers.Dense(256, activation='relu'))\n",
        "model.add(layers.Dense(1, activation='sigmoid'))"
      ],
      "metadata": {
        "id": "_6khIkBAqLN0"
      },
      "execution_count": null,
      "outputs": []
    },
    {
      "cell_type": "code",
      "source": [
        "model.summary()"
      ],
      "metadata": {
        "id": "yGnWS8BTqMBn"
      },
      "execution_count": null,
      "outputs": []
    },
    {
      "cell_type": "code",
      "source": [
        "model.compile(optimizer=tf.keras.optimizers.Adam(lr=0.001), loss='categorical_crossentropy', metrics=['acc'])"
      ],
      "metadata": {
        "id": "BIMd4LW0qOwp"
      },
      "execution_count": null,
      "outputs": []
    },
    {
      "cell_type": "code",
      "source": [
        "hst = model.fit(X_train, validation_data=X_val, epochs=EPOCHS)"
      ],
      "metadata": {
        "id": "kK4hEpLgcNyA"
      },
      "execution_count": null,
      "outputs": []
    },
    {
      "cell_type": "code",
      "source": [
        "%matplotlib inline \n",
        "import matplotlib.pyplot as plt\n",
        "acc = hst.history['acc']\n",
        "val_acc = hst.history['val_acc']\n",
        "loss = hst.history['loss']\n",
        "val_loss = hst.history['val_loss']\n",
        "\n",
        "epochs = range(len(acc))\n",
        "\n",
        "plt.plot(epochs,acc,'r', label = 'Training accuracy')\n",
        "plt.plot(epochs, val_acc, 'b', label = 'validation accuracy')\n",
        "plt.title('Training and validation accuracy')\n",
        "plt.legend(loc= 0)\n",
        "plt.figure()"
      ],
      "metadata": {
        "id": "TxwKzb1ZcSwd"
      },
      "execution_count": null,
      "outputs": []
    },
    {
      "cell_type": "code",
      "source": [
        "X_test = load_data('')"
      ],
      "metadata": {
        "id": "3QMbky1ycgX2"
      },
      "execution_count": null,
      "outputs": []
    },
    {
      "cell_type": "code",
      "source": [
        "print('Test Data: ', X_test.shape)\n",
        "\n",
        "# ordered count of rows per unique label\n",
        "X_test['Labels'].value_counts(ascending=True)"
      ],
      "metadata": {
        "id": "bK7qV7KlcjfM"
      },
      "execution_count": null,
      "outputs": []
    },
    {
      "cell_type": "code",
      "source": [
        "X_test = img_data_gen.flow_from_dataframe(dataframe=X_test,\n",
        "                                          x_col='FilePaths',\n",
        "                                          y_col='Labels',\n",
        "                                          target_size=IMG_SIZE,\n",
        "                                          color_mode='rgb',\n",
        "                                          class_mode='categorical',\n",
        "                                          batch_size=BATCH_SIZE,\n",
        "                                          shuffle=False, # necessary fpr confusion matrix\n",
        "                                          seed=1)"
      ],
      "metadata": {
        "id": "fO2nzaFncm9A"
      },
      "execution_count": null,
      "outputs": []
    },
    {
      "cell_type": "code",
      "source": [
        "res = model.evaluate(X_test)\n"
      ],
      "metadata": {
        "id": "e0rFWKcjcpOY"
      },
      "execution_count": null,
      "outputs": []
    },
    {
      "cell_type": "code",
      "source": [
        "print(f'Train Accuracy: {hst.history[\"acc\"][-1:][0] * 100:.2f}')\n",
        "print(f'Val Accuracy: {hst.history[\"val_acc\"][-1:][0] * 100:.2f}')\n",
        "print(f'Test Accuracy: {res[1] * 100:.2f}')\n",
        "# loss\n",
        "print(f'Train Loss: {hst.history[\"loss\"][-1:][0] * 100:.2f}')\n",
        "print(f'Val Loss: {hst.history[\"val_loss\"][-1:][0] * 100:.2f}')\n",
        "print(f'Test Loss: {res[0] * 100:.2f}')"
      ],
      "metadata": {
        "id": "E4JkcTADctcC"
      },
      "execution_count": null,
      "outputs": []
    },
    {
      "cell_type": "code",
      "source": [
        "# predicted labels\n",
        "Y_pred = model.predict(X_test)\n",
        "print(\"Y_pred\", Y_pred.shape)\n",
        "# rounded labels\n",
        "y_pred = np.argmax(Y_pred, axis=1)\n",
        "print(\"y_pred\", y_pred.size)"
      ],
      "metadata": {
        "id": "wsWMHNWLc28w"
      },
      "execution_count": null,
      "outputs": []
    },
    {
      "cell_type": "code",
      "source": [
        "y_true = X_test.classes\n",
        "print(\"y_pred\", len(y_pred))\n",
        "# label classes\n",
        "class_labels = list(X_test.class_indices.keys())\n",
        "print(\"labels\", len(class_labels))"
      ],
      "metadata": {
        "id": "SsXipWCNc3as"
      },
      "execution_count": null,
      "outputs": []
    },
    {
      "cell_type": "code",
      "source": [
        "cfm = confusion_matrix(y_pred, y_true, normalize='true')\n",
        "\n",
        "# plot size\n",
        "fig, ax = plt.subplots(figsize=(15,15))\n",
        "# print confusion matrix\n",
        "s = sns.heatmap(cfm,\n",
        "               annot=True,\n",
        "               cmap=['#ff0001', '#09AA11'],\n",
        "               center=0.8,\n",
        "               fmt='.1%',\n",
        "               linewidths=.5,\n",
        "               cbar_kws={'format': FuncFormatter(lambda x, pos: '{:.0%}'.format(x))}, #'label': 'Percentage' \n",
        "               linecolor='Black',\n",
        "               ax=ax)\n",
        "# set labels\n",
        "s.set(xlabel='Predict', ylabel='True')\n",
        "s.set(title='Confusion Matrix')\n",
        "s.set_yticklabels([tw.fill(e, 10) for e in class_labels])\n",
        "s.set_xticklabels([tw.fill(e, 10) for e in class_labels])"
      ],
      "metadata": {
        "id": "SV50qovJc6Vk"
      },
      "execution_count": null,
      "outputs": []
    }
  ]
}